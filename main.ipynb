{
 "nbformat": 4,
 "nbformat_minor": 2,
 "metadata": {
  "language_info": {
   "name": "python",
   "codemirror_mode": {
    "name": "ipython",
    "version": 3
   },
   "version": "3.7.4-final"
  },
  "orig_nbformat": 2,
  "file_extension": ".py",
  "mimetype": "text/x-python",
  "name": "python",
  "npconvert_exporter": "python",
  "pygments_lexer": "ipython3",
  "version": 3,
  "kernelspec": {
   "name": "python37464bitbasecondaddc4cf1ed80f44b7b44fe4cd566df75e",
   "display_name": "Python 3.7.4 64-bit ('base': conda)"
  }
 },
 "cells": [
  {
   "cell_type": "markdown",
   "metadata": {},
   "source": [
    "# United States Department of Agriculture Food Database"
   ]
  },
  {
   "cell_type": "markdown",
   "metadata": {},
   "source": [
    "[Source](https://github.com/morenoh149/postgresDBSamples/tree/master/usda-r18-1.0)"
   ]
  },
  {
   "cell_type": "code",
   "execution_count": 26,
   "metadata": {},
   "outputs": [],
   "source": [
    "import psycopg2\n",
    "import pandas as pd"
   ]
  },
  {
   "cell_type": "code",
   "execution_count": 27,
   "metadata": {},
   "outputs": [],
   "source": [
    "from configparser import ConfigParser\n",
    " \n",
    "def config(filename='database.ini', section='postgresql'):\n",
    "    # create a parser\n",
    "    parser = ConfigParser()\n",
    "    # read config file\n",
    "    parser.read(filename)\n",
    " \n",
    "    # get section, default to postgresql\n",
    "    db = {}\n",
    "    if parser.has_section(section):\n",
    "        params = parser.items(section)\n",
    "        for param in params:\n",
    "            db[param[0]] = param[1]\n",
    "    else:\n",
    "        raise Exception('Section {0} not found in the {1} file'.format(section, filename))\n",
    " \n",
    "    return db"
   ]
  },
  {
   "cell_type": "code",
   "execution_count": 44,
   "metadata": {},
   "outputs": [],
   "source": [
    "from config import config\n",
    " \n",
    "def connect(query):\n",
    "    \"\"\" Connect to the PostgreSQL database server \"\"\"\n",
    "    conn = None\n",
    "    try:\n",
    "        # read connection parameters\n",
    "        params = config()\n",
    " \n",
    "        # connect to the PostgreSQL server\n",
    "        print('Connecting to the PostgreSQL database...')\n",
    "        conn = psycopg2.connect(**params)\n",
    "      \n",
    "        output = pd.read_sql(query, conn)\n",
    "        return output\n",
    "\n",
    "    except (Exception, psycopg2.DatabaseError) as error:\n",
    "        print(error)\n",
    "    finally:\n",
    "        if conn is not None:\n",
    "            conn.close()\n",
    "            print('Database connection closed.')"
   ]
  },
  {
   "cell_type": "code",
   "execution_count": 39,
   "metadata": {},
   "outputs": [],
   "source": [
    "def showTables():\n",
    "    \"\"\" Connect to the PostgreSQL database server \"\"\"\n",
    "    conn = None\n",
    "    try:\n",
    "        # read connection parameters\n",
    "        params = config()\n",
    " \n",
    "        # connect to the PostgreSQL server\n",
    "        print('Connecting to the PostgreSQL database...')\n",
    "        conn = psycopg2.connect(**params)\n",
    "      \n",
    "        # create a cursor\n",
    "        cur = conn.cursor()\n",
    "        \n",
    "   # execute a statement\n",
    "        tables = []\n",
    "        cur.execute(\"SELECT table_name FROM information_schema.tables WHERE table_schema = 'public';\")\n",
    "        for table in cur.fetchall():\n",
    "            tables.append(table)             \n",
    "        return tables\n",
    "       \n",
    "       # close the communication with the PostgreSQL\n",
    "        cur.close()\n",
    "    except (Exception, psycopg2.DatabaseError) as error:\n",
    "        print(error)\n",
    "    finally:\n",
    "        if conn is not None:\n",
    "            conn.close()\n",
    "            print('Database connection closed.')"
   ]
  },
  {
   "cell_type": "code",
   "execution_count": 42,
   "metadata": {},
   "outputs": [],
   "source": [
    "def showFields(table_name):\n",
    "    \"\"\" Connect to the PostgreSQL database server \"\"\"\n",
    "    conn = None\n",
    "    try:\n",
    "        # read connection parameters\n",
    "        params = config()\n",
    " \n",
    "        # connect to the PostgreSQL server\n",
    "        print('Connecting to the PostgreSQL database...')\n",
    "        conn = psycopg2.connect(**params)\n",
    "      \n",
    "        # create a cursor\n",
    "        cur = conn.cursor()\n",
    "        \n",
    "   # execute a statement\n",
    "\n",
    "        cur.execute(\"Select * FROM \" + table_name, \" LIMIT 0;\")\n",
    "        colnames = [desc[0] for desc in cur.description]\n",
    "        return colnames\n",
    "       \n",
    "       # close the communication with the PostgreSQL\n",
    "        cur.close()\n",
    "    except (Exception, psycopg2.DatabaseError) as error:\n",
    "        print(error)\n",
    "    finally:\n",
    "        if conn is not None:\n",
    "            conn.close()\n",
    "            print('Database connection closed.')"
   ]
  },
  {
   "cell_type": "code",
   "execution_count": 40,
   "metadata": {},
   "outputs": [
    {
     "name": "stdout",
     "output_type": "stream",
     "text": "Connecting to the PostgreSQL database...\nDatabase connection closed.\n"
    },
    {
     "data": {
      "text/plain": "[('data_src',),\n ('datsrcln',),\n ('fd_group',),\n ('footnote',),\n ('deriv_cd',),\n ('nutr_def',),\n ('src_cd',),\n ('nut_data',),\n ('food_des',),\n ('weight',)]"
     },
     "execution_count": 40,
     "metadata": {},
     "output_type": "execute_result"
    }
   ],
   "source": [
    "showTables()"
   ]
  },
  {
   "cell_type": "code",
   "execution_count": 43,
   "metadata": {},
   "outputs": [
    {
     "name": "stdout",
     "output_type": "stream",
     "text": "Connecting to the PostgreSQL database...\nDatabase connection closed.\n"
    },
    {
     "data": {
      "text/plain": "['ndb_no',\n 'nutr_no',\n 'nutr_val',\n 'num_data_pts',\n 'std_error',\n 'src_cd',\n 'deriv_cd',\n 'ref_ndb_no',\n 'add_nutr_mark',\n 'num_studies',\n 'min',\n 'max',\n 'df',\n 'low_eb',\n 'up_eb',\n 'stat_cmt',\n 'cc']"
     },
     "execution_count": 43,
     "metadata": {},
     "output_type": "execute_result"
    }
   ],
   "source": [
    "showFields(\"nut_data\")"
   ]
  },
  {
   "cell_type": "code",
   "execution_count": 48,
   "metadata": {},
   "outputs": [
    {
     "name": "stdout",
     "output_type": "stream",
     "text": "Connecting to the PostgreSQL database...\nDatabase connection closed.\n"
    },
    {
     "data": {
      "text/html": "<div>\n<style scoped>\n    .dataframe tbody tr th:only-of-type {\n        vertical-align: middle;\n    }\n\n    .dataframe tbody tr th {\n        vertical-align: top;\n    }\n\n    .dataframe thead th {\n        text-align: right;\n    }\n</style>\n<table border=\"1\" class=\"dataframe\">\n  <thead>\n    <tr style=\"text-align: right;\">\n      <th></th>\n      <th>ndb_no</th>\n      <th>nutr_no</th>\n      <th>nutr_val</th>\n      <th>num_data_pts</th>\n      <th>std_error</th>\n      <th>src_cd</th>\n      <th>deriv_cd</th>\n      <th>ref_ndb_no</th>\n      <th>add_nutr_mark</th>\n      <th>num_studies</th>\n      <th>min</th>\n      <th>max</th>\n      <th>df</th>\n      <th>low_eb</th>\n      <th>up_eb</th>\n      <th>stat_cmt</th>\n      <th>cc</th>\n    </tr>\n  </thead>\n  <tbody>\n    <tr>\n      <th>0</th>\n      <td>01001</td>\n      <td>205</td>\n      <td>0.06</td>\n      <td>0.0</td>\n      <td>NaN</td>\n      <td>4</td>\n      <td>NC</td>\n      <td></td>\n      <td></td>\n      <td>NaN</td>\n      <td>NaN</td>\n      <td>NaN</td>\n      <td>NaN</td>\n      <td>NaN</td>\n      <td>NaN</td>\n      <td></td>\n      <td>None</td>\n    </tr>\n    <tr>\n      <th>1</th>\n      <td>01001</td>\n      <td>208</td>\n      <td>717.00</td>\n      <td>0.0</td>\n      <td>NaN</td>\n      <td>4</td>\n      <td>NC</td>\n      <td></td>\n      <td></td>\n      <td>NaN</td>\n      <td>NaN</td>\n      <td>NaN</td>\n      <td>NaN</td>\n      <td>NaN</td>\n      <td>NaN</td>\n      <td></td>\n      <td>None</td>\n    </tr>\n    <tr>\n      <th>2</th>\n      <td>01001</td>\n      <td>262</td>\n      <td>0.00</td>\n      <td>0.0</td>\n      <td>NaN</td>\n      <td>7</td>\n      <td>Z</td>\n      <td></td>\n      <td></td>\n      <td>NaN</td>\n      <td>NaN</td>\n      <td>NaN</td>\n      <td>NaN</td>\n      <td>NaN</td>\n      <td>NaN</td>\n      <td></td>\n      <td>None</td>\n    </tr>\n    <tr>\n      <th>3</th>\n      <td>01001</td>\n      <td>263</td>\n      <td>0.00</td>\n      <td>0.0</td>\n      <td>NaN</td>\n      <td>7</td>\n      <td>Z</td>\n      <td></td>\n      <td></td>\n      <td>NaN</td>\n      <td>NaN</td>\n      <td>NaN</td>\n      <td>NaN</td>\n      <td>NaN</td>\n      <td>NaN</td>\n      <td></td>\n      <td>None</td>\n    </tr>\n    <tr>\n      <th>4</th>\n      <td>01001</td>\n      <td>269</td>\n      <td>0.06</td>\n      <td>0.0</td>\n      <td>NaN</td>\n      <td>4</td>\n      <td>NR</td>\n      <td></td>\n      <td></td>\n      <td>NaN</td>\n      <td>NaN</td>\n      <td>NaN</td>\n      <td>NaN</td>\n      <td>NaN</td>\n      <td>NaN</td>\n      <td></td>\n      <td>None</td>\n    </tr>\n  </tbody>\n</table>\n</div>",
      "text/plain": "  ndb_no nutr_no  nutr_val  num_data_pts  std_error  src_cd deriv_cd  \\\n0  01001     205      0.06           0.0        NaN       4       NC   \n1  01001     208    717.00           0.0        NaN       4       NC   \n2  01001     262      0.00           0.0        NaN       7        Z   \n3  01001     263      0.00           0.0        NaN       7        Z   \n4  01001     269      0.06           0.0        NaN       4       NR   \n\n  ref_ndb_no add_nutr_mark  num_studies  min  max  df  low_eb  up_eb stat_cmt  \\\n0                                   NaN  NaN  NaN NaN     NaN    NaN            \n1                                   NaN  NaN  NaN NaN     NaN    NaN            \n2                                   NaN  NaN  NaN NaN     NaN    NaN            \n3                                   NaN  NaN  NaN NaN     NaN    NaN            \n4                                   NaN  NaN  NaN NaN     NaN    NaN            \n\n     cc  \n0  None  \n1  None  \n2  None  \n3  None  \n4  None  "
     },
     "execution_count": 48,
     "metadata": {},
     "output_type": "execute_result"
    }
   ],
   "source": [
    "query = \"SELECT * FROM nut_data;\"\n",
    "nut_data = connect(query)\n",
    "nut_data.head()"
   ]
  },
  {
   "cell_type": "code",
   "execution_count": null,
   "metadata": {},
   "outputs": [],
   "source": []
  }
 ]
}